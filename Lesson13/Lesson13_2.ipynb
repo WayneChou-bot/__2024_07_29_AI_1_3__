{
 "cells": [
  {
   "cell_type": "code",
   "execution_count": 1,
   "metadata": {},
   "outputs": [
    {
     "data": {
      "text/plain": [
       "[3, 6, 9, 12, 15]"
      ]
     },
     "execution_count": 1,
     "metadata": {},
     "output_type": "execute_result"
    }
   ],
   "source": [
    "values = [1, 2, 3, 4, 5]\n",
    "multiply = 3\n",
    "\n",
    "new_values = []\n",
    "for i in values:\n",
    "    new_values.append(i*multiply)\n",
    "\n",
    "new_values"
   ]
  },
  {
   "cell_type": "code",
   "execution_count": 2,
   "metadata": {},
   "outputs": [
    {
     "data": {
      "text/plain": [
       "[3, 6, 9, 12, 15]"
      ]
     },
     "execution_count": 2,
     "metadata": {},
     "output_type": "execute_result"
    }
   ],
   "source": [
    "values = [1, 2, 3, 4, 5]\n",
    "multiply = 3\n",
    "\n",
    "new_values = [i*multiply for i in values]\n",
    "new_values"
   ]
  },
  {
   "cell_type": "code",
   "execution_count": 3,
   "metadata": {},
   "outputs": [
    {
     "data": {
      "text/plain": [
       "[1, 2, 3, 4, 5, 1, 2, 3, 4, 5, 1, 2, 3, 4, 5]"
      ]
     },
     "execution_count": 3,
     "metadata": {},
     "output_type": "execute_result"
    }
   ],
   "source": [
    "values = [1, 2, 3, 4, 5]\n",
    "multiply = 3\n",
    "values * multiply"
   ]
  },
  {
   "cell_type": "code",
   "execution_count": 12,
   "metadata": {},
   "outputs": [
    {
     "data": {
      "text/plain": [
       "array([ 3.14159, 12.56636, 28.27431, 50.26544, 78.53975])"
      ]
     },
     "execution_count": 12,
     "metadata": {},
     "output_type": "execute_result"
    }
   ],
   "source": [
    "# numpy 是外部的擴充結構，取代 list 的不足\n",
    "# numpy 可以做陣列運算\n",
    "\n",
    "import numpy as np\n",
    "values_array = np.array([1, 2, 3, 4, 5])\n",
    "multiply = 3\n",
    "values_array * multiply\n",
    "values_array ** 2 * 3.14159"
   ]
  },
  {
   "cell_type": "code",
   "execution_count": 11,
   "metadata": {},
   "outputs": [
    {
     "data": {
      "text/plain": [
       "array([[[65, 57, 62, 92, 96],\n",
       "        [86, 53, 74, 66, 63],\n",
       "        [80, 68, 85, 85, 59],\n",
       "        ...,\n",
       "        [82, 84, 84, 82, 55],\n",
       "        [89, 55, 85, 51, 75],\n",
       "        [77, 68, 72, 55, 93]],\n",
       "\n",
       "       [[91, 54, 76, 55, 84],\n",
       "        [56, 91, 79, 93, 74],\n",
       "        [50, 84, 51, 65, 60],\n",
       "        ...,\n",
       "        [65, 73, 96, 88, 58],\n",
       "        [92, 80, 93, 83, 64],\n",
       "        [66, 61, 71, 91, 66]],\n",
       "\n",
       "       [[59, 71, 61, 54, 64],\n",
       "        [68, 53, 60, 99, 65],\n",
       "        [85, 87, 76, 57, 82],\n",
       "        ...,\n",
       "        [50, 90, 86, 86, 90],\n",
       "        [94, 92, 69, 63, 92],\n",
       "        [79, 85, 73, 91, 69]],\n",
       "\n",
       "       [[61, 69, 99, 60, 94],\n",
       "        [52, 69, 92, 76, 69],\n",
       "        [85, 62, 90, 97, 99],\n",
       "        ...,\n",
       "        [81, 92, 70, 58, 59],\n",
       "        [75, 83, 86, 99, 63],\n",
       "        [58, 66, 55, 80, 84]],\n",
       "\n",
       "       [[67, 78, 60, 91, 94],\n",
       "        [73, 80, 52, 91, 91],\n",
       "        [79, 52, 84, 84, 74],\n",
       "        ...,\n",
       "        [87, 66, 52, 96, 89],\n",
       "        [50, 96, 77, 64, 75],\n",
       "        [58, 59, 86, 67, 83]]])"
      ]
     },
     "execution_count": 11,
     "metadata": {},
     "output_type": "execute_result"
    }
   ],
   "source": [
    "import numpy as np\n",
    "np.random.randint(50,100,size=(5,50,5))"
   ]
  }
 ],
 "metadata": {
  "kernelspec": {
   "display_name": "Python 3",
   "language": "python",
   "name": "python3"
  },
  "language_info": {
   "codemirror_mode": {
    "name": "ipython",
    "version": 3
   },
   "file_extension": ".py",
   "mimetype": "text/x-python",
   "name": "python",
   "nbconvert_exporter": "python",
   "pygments_lexer": "ipython3",
   "version": "3.11.9"
  }
 },
 "nbformat": 4,
 "nbformat_minor": 2
}
