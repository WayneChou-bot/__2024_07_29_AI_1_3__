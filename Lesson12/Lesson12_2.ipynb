{
 "cells": [
  {
   "cell_type": "code",
   "execution_count": 3,
   "metadata": {},
   "outputs": [],
   "source": [
    "import requests\n",
    "from requests import Response\n",
    "youbike_url = \"https://tcgbusfs.blob.core.windows.net/dotapp/youbike/v2/youbike_immediate.json\"\n",
    "try:\n",
    "    response:Response = requests.request(\"GET\", youbike_url)\n",
    "    response.raise_for_status()\n",
    "except Exception:\n",
    "    print(\"下載錯誤\")\n",
    "else:\n",
    "    content = response.text"
   ]
  },
  {
   "cell_type": "code",
   "execution_count": null,
   "metadata": {},
   "outputs": [],
   "source": [
    "from pydantic import BaseModel, RootModel, Field\n",
    "from pprint import pprint\n",
    "\n",
    "# 使用自訂的 Fields 的名稱\n",
    "class Station(BaseModel):\n",
    "    站名:str = Field(alias=\"sna\")\n",
    "    行政區:str = Field(alias=\"sarea\")\n",
    "    日期:str = Field(alias=\"mday\")\n",
    "    地址:str = Field(alias=\"ar\")\n",
    "    狀態:str = Field(alias=\"act\")\n",
    "    總車輛數:int = Field(alias=\"total\")\n",
    "    可借車輛數:int = Field(alias=\"available_rent_bikes\")\n",
    "    可還車輛數:int = Field(alias=\"available_return_bikes\")\n",
    "\n",
    "class Youbikes(RootModel):\n",
    "    root:list[Station]\n",
    "\n",
    "youbikes:Youbikes = Youbikes.model_validate_json(content)\n",
    "youbikes_list = youbikes.model_dump()\n",
    "pprint(youbikes_list)"
   ]
  },
  {
   "cell_type": "code",
   "execution_count": null,
   "metadata": {},
   "outputs": [],
   "source": [
    "for item in youbikes_list:\n",
    "    pprint(item, indent=2)"
   ]
  }
 ],
 "metadata": {
  "kernelspec": {
   "display_name": "Python 3",
   "language": "python",
   "name": "python3"
  },
  "language_info": {
   "codemirror_mode": {
    "name": "ipython",
    "version": 3
   },
   "file_extension": ".py",
   "mimetype": "text/x-python",
   "name": "python",
   "nbconvert_exporter": "python",
   "pygments_lexer": "ipython3",
   "version": "3.11.9"
  }
 },
 "nbformat": 4,
 "nbformat_minor": 2
}
