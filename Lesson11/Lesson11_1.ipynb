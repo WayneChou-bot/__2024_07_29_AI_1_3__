{
 "cells": [
  {
   "cell_type": "code",
   "execution_count": 1,
   "metadata": {},
   "outputs": [
    {
     "name": "stdout",
     "output_type": "stream",
     "text": [
      "存檔完成\n"
     ]
    }
   ],
   "source": [
    "# 請下載日射量json資料,存檔名稱為'台灣日射量.json'\n",
    "import requests\n",
    "from requests.exceptions import HTTPError,ConnectionError,Timeout\n",
    "\n",
    "try:\n",
    "    url = \"https://opendata.cwa.gov.tw/fileapi/v1/opendataapi/O-A0091-001?Authorization=rdec-key-123-45678-011121314&format=JSON\"\n",
    "    response = requests.get(url)\n",
    "    response.raise_for_status()\n",
    "    content = response.text\n",
    "    #print(content)\n",
    "except ConnectionError:\n",
    "    print(\"連線伺服器發生錯誤\")\n",
    "except Timeout:\n",
    "    print(\"伺服器忙碌,沒有回應\")\n",
    "except HTTPError:\n",
    "    print(\"伺服器回應連線錯誤\")\n",
    "except Exception:\n",
    "    print(\"不知名的錯誤\")\n"
   ]
  },
  {
   "cell_type": "code",
   "execution_count": 5,
   "metadata": {},
   "outputs": [],
   "source": [
    "import io\n",
    "import json\n",
    "from pprint import pprint\n",
    "file = io.StringIO(content)\n",
    "#print(type(file))\n",
    "contents = json.load(file)"
   ]
  },
  {
   "cell_type": "code",
   "execution_count": 8,
   "metadata": {},
   "outputs": [],
   "source": [
    "date:str = contents[\"cwaopendata\"][\"sent\"]"
   ]
  },
  {
   "cell_type": "code",
   "execution_count": null,
   "metadata": {},
   "outputs": [],
   "source": [
    "stations:list = contents[\"cwaopendata\"][\"dataset\"][\"Station\"]\n",
    "pprint(stations)"
   ]
  },
  {
   "cell_type": "code",
   "execution_count": null,
   "metadata": {},
   "outputs": [],
   "source": [
    "#for station in stations:\n",
    "#    name:str = station[\"StationName\"]\n",
    "#    weather:str = station[\"WeatherElement\"][\"SolarRadiation\"]\n",
    "#    print(name, weather)\n",
    "#    print(\"===========\")"
   ]
  },
  {
   "cell_type": "code",
   "execution_count": 21,
   "metadata": {},
   "outputs": [
    {
     "data": {
      "text/plain": [
       "[<__main__.Station at 0x7902f25c3dd0>,\n",
       " <__main__.Station at 0x7902f25c39d0>,\n",
       " <__main__.Station at 0x7902f25c3190>,\n",
       " <__main__.Station at 0x7902f25c2a90>,\n",
       " <__main__.Station at 0x7902f25c3d50>,\n",
       " <__main__.Station at 0x7902f25c2e10>,\n",
       " <__main__.Station at 0x7902f25c3d10>,\n",
       " <__main__.Station at 0x7902f25c3e50>,\n",
       " <__main__.Station at 0x7902f25c0ed0>,\n",
       " <__main__.Station at 0x7902f25c2950>,\n",
       " <__main__.Station at 0x7902f25c3690>,\n",
       " <__main__.Station at 0x7902f25c35d0>,\n",
       " <__main__.Station at 0x7902f25c2b90>,\n",
       " <__main__.Station at 0x7902f25c2bd0>,\n",
       " <__main__.Station at 0x7902f25c3590>,\n",
       " <__main__.Station at 0x7902f25c3110>,\n",
       " <__main__.Station at 0x7902f25c1310>,\n",
       " <__main__.Station at 0x7902f25c0510>,\n",
       " <__main__.Station at 0x7902f25c3450>,\n",
       " <__main__.Station at 0x7902f25c2090>,\n",
       " <__main__.Station at 0x7902f25c3f90>,\n",
       " <__main__.Station at 0x7902f25c36d0>,\n",
       " <__main__.Station at 0x7902f25c3550>,\n",
       " <__main__.Station at 0x7902f25c3390>,\n",
       " <__main__.Station at 0x7902f25c3bd0>,\n",
       " <__main__.Station at 0x7902f25c0810>,\n",
       " <__main__.Station at 0x7902f2580f10>,\n",
       " <__main__.Station at 0x7902f2580d10>,\n",
       " <__main__.Station at 0x7902f2580250>,\n",
       " <__main__.Station at 0x7902f2583690>,\n",
       " <__main__.Station at 0x7902f2583590>,\n",
       " <__main__.Station at 0x7902f2583090>,\n",
       " <__main__.Station at 0x7902f25827d0>]"
      ]
     },
     "execution_count": 21,
     "metadata": {},
     "output_type": "execute_result"
    }
   ],
   "source": [
    "class Station():\n",
    "    def __init__(self, name:str, weather:float):\n",
    "        self.name = name\n",
    "        self.weather = weather\n",
    "\n",
    "station1:list = []\n",
    "for station in stations:\n",
    "    name:str = station[\"StationName\"]\n",
    "    weather:str = station[\"WeatherElement\"][\"SolarRadiation\"]\n",
    "    station:Station = Station(name, float(weather))\n",
    "    station1.append(station)\n",
    "\n",
    "station1"
   ]
  }
 ],
 "metadata": {
  "kernelspec": {
   "display_name": "Python 3",
   "language": "python",
   "name": "python3"
  },
  "language_info": {
   "codemirror_mode": {
    "name": "ipython",
    "version": 3
   },
   "file_extension": ".py",
   "mimetype": "text/x-python",
   "name": "python",
   "nbconvert_exporter": "python",
   "pygments_lexer": "ipython3",
   "version": "3.11.9"
  }
 },
 "nbformat": 4,
 "nbformat_minor": 2
}
