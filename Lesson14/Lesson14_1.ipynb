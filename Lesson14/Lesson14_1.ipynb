{
 "cells": [
  {
   "cell_type": "code",
   "execution_count": 1,
   "metadata": {},
   "outputs": [
    {
     "data": {
      "text/plain": [
       "(5, 7)"
      ]
     },
     "execution_count": 1,
     "metadata": {},
     "output_type": "execute_result"
    }
   ],
   "source": [
    "(5, 7)"
   ]
  },
  {
   "cell_type": "code",
   "execution_count": 2,
   "metadata": {},
   "outputs": [
    {
     "data": {
      "text/plain": [
       "(5, 7)"
      ]
     },
     "execution_count": 2,
     "metadata": {},
     "output_type": "execute_result"
    }
   ],
   "source": [
    "5, 7"
   ]
  },
  {
   "cell_type": "code",
   "execution_count": 7,
   "metadata": {},
   "outputs": [
    {
     "data": {
      "text/plain": [
       "(5,)"
      ]
     },
     "execution_count": 7,
     "metadata": {},
     "output_type": "execute_result"
    }
   ],
   "source": [
    "# 單一個要加 \",\"\n",
    "(5, )"
   ]
  },
  {
   "cell_type": "code",
   "execution_count": 8,
   "metadata": {},
   "outputs": [
    {
     "data": {
      "text/plain": [
       "[1, 3, 5, 7, 9, 3, 5, 6, 7, 9]"
      ]
     },
     "execution_count": 8,
     "metadata": {},
     "output_type": "execute_result"
    }
   ],
   "source": [
    "list_a = [1, 3, 5, 7, 9]\n",
    "list_b = [3, 5, 6, 7, 9]\n",
    "list_a + list_b"
   ]
  },
  {
   "cell_type": "code",
   "execution_count": 10,
   "metadata": {},
   "outputs": [
    {
     "data": {
      "text/plain": [
       "array([ 4,  8, 11, 14, 18])"
      ]
     },
     "execution_count": 10,
     "metadata": {},
     "output_type": "execute_result"
    }
   ],
   "source": [
    "import numpy as np\n",
    "array_a = np.array([1, 3, 5, 7, 9])\n",
    "array_b = np.array([3, 5, 6, 7, 9])\n",
    "type(array_a)\n",
    "array_a + array_b"
   ]
  },
  {
   "cell_type": "code",
   "execution_count": 14,
   "metadata": {},
   "outputs": [
    {
     "data": {
      "text/plain": [
       "(2, (2, 3), 6, dtype('int64'))"
      ]
     },
     "execution_count": 14,
     "metadata": {},
     "output_type": "execute_result"
    }
   ],
   "source": [
    "import numpy as np\n",
    "\n",
    "l = [[1, 2, 3],[2, 3, 4]]\n",
    "array = np.array(l)\n",
    "array.ndim, array.shape, array.size, array.dtype"
   ]
  },
  {
   "cell_type": "code",
   "execution_count": 17,
   "metadata": {},
   "outputs": [
    {
     "data": {
      "text/plain": [
       "array([[-0.2115755 ,  1.43236187,  2.306911  ,  1.19424404, -1.75927173],\n",
       "       [ 1.38084583,  0.03120367,  1.20275879,  0.97092019,  0.07603791],\n",
       "       [ 0.67195082, -0.94720042, -0.34977296,  2.49692855,  0.24146176],\n",
       "       [-0.64244429,  1.18842381,  0.26194255, -1.15821728,  0.09974325],\n",
       "       [-0.11746087, -0.44958544,  0.17819431,  0.48588699,  0.73923177],\n",
       "       [-0.4312601 ,  1.61480727,  0.13945506, -0.52999808, -0.66184052],\n",
       "       [-0.62884286, -0.45110408,  0.75600054, -0.43180134,  0.86890168],\n",
       "       [-0.17506262, -0.79246808, -0.48776677,  2.18028884, -0.24490554],\n",
       "       [ 0.10699444,  1.1880349 ,  0.36325022, -0.92692486, -0.30586825],\n",
       "       [-0.18398966,  1.37190189, -0.52850888,  1.00170961, -0.77271614]])"
      ]
     },
     "execution_count": 17,
     "metadata": {},
     "output_type": "execute_result"
    }
   ],
   "source": [
    "import numpy as np\n",
    "np.random.randn(10,5)"
   ]
  },
  {
   "cell_type": "code",
   "execution_count": 22,
   "metadata": {},
   "outputs": [
    {
     "data": {
      "text/plain": [
       "array([[ 92,  89,  70,  93,  65],\n",
       "       [ 52,  87,  87,  86,  98],\n",
       "       [ 56,  87,  52,  87,  68],\n",
       "       [ 81,  58,  69,  86,  58],\n",
       "       [ 67,  82, 100,  83,  95],\n",
       "       [ 65,  69,  89,  90,  92],\n",
       "       [ 93,  87,  76,  50,  84],\n",
       "       [ 62,  74,  96,  65,  66],\n",
       "       [ 50,  70,  75,  87,  68],\n",
       "       [ 98,  92,  67,  53,  70],\n",
       "       [ 56,  62, 100,  94,  83],\n",
       "       [ 90,  88,  77,  75,  74],\n",
       "       [ 76,  57,  96,  80,  59],\n",
       "       [ 59,  50,  96, 100,  61],\n",
       "       [ 57,  82,  71,  86,  71],\n",
       "       [ 80,  77,  64,  73,  78],\n",
       "       [ 53,  53, 100,  69,  95],\n",
       "       [ 89,  54,  97, 100,  86],\n",
       "       [ 99,  59,  51,  88,  94],\n",
       "       [ 88,  61,  88,  96,  50],\n",
       "       [ 51,  66,  73,  54,  93],\n",
       "       [ 81,  92,  61,  89,  92],\n",
       "       [ 50,  93,  97,  84,  74],\n",
       "       [ 62,  65,  97,  69,  55],\n",
       "       [ 77, 100,  60,  80,  87],\n",
       "       [ 52,  98,  54,  80,  98],\n",
       "       [ 69,  70, 100,  73,  59],\n",
       "       [ 63,  96,  56,  88,  92],\n",
       "       [ 86,  92,  67,  62,  63],\n",
       "       [ 86,  63,  64,  89,  69],\n",
       "       [ 74,  87,  75,  87,  70],\n",
       "       [ 91,  70,  87,  50,  53],\n",
       "       [ 57,  58,  52,  58,  53],\n",
       "       [ 53,  90,  95,  66,  68],\n",
       "       [ 61,  89,  92,  72,  76],\n",
       "       [ 65,  72,  73,  89,  69],\n",
       "       [ 91,  51,  56,  65,  60],\n",
       "       [ 65,  59,  90,  92,  75],\n",
       "       [ 99,  84,  75,  67,  64],\n",
       "       [ 51,  52,  63,  51,  85],\n",
       "       [ 78,  98,  98,  64,  84],\n",
       "       [ 91,  96,  70,  65,  96],\n",
       "       [ 51,  90,  54,  81,  86],\n",
       "       [ 97,  75,  90,  66,  87],\n",
       "       [ 61,  69,  63,  70,  83],\n",
       "       [ 89,  58,  84,  75,  90],\n",
       "       [ 69,  64,  51,  98,  81],\n",
       "       [ 91,  83,  83,  98,  85],\n",
       "       [ 53,  91,  72,  86,  56],\n",
       "       [ 68,  59,  58,  65,  98]])"
      ]
     },
     "execution_count": 22,
     "metadata": {},
     "output_type": "execute_result"
    }
   ],
   "source": [
    "# 50個學生，每個學生有5個分數(50-100)\n",
    "scores = np.random.randint(50,101,size=(50,5))\n",
    "scores"
   ]
  },
  {
   "cell_type": "code",
   "execution_count": 23,
   "metadata": {},
   "outputs": [
    {
     "data": {
      "text/plain": [
       "array([[89, 58, 84, 75, 90],\n",
       "       [69, 64, 51, 98, 81],\n",
       "       [91, 83, 83, 98, 85],\n",
       "       [53, 91, 72, 86, 56],\n",
       "       [68, 59, 58, 65, 98]])"
      ]
     },
     "execution_count": 23,
     "metadata": {},
     "output_type": "execute_result"
    }
   ],
   "source": [
    "# 第一個學生\n",
    "scores[0, :]\n",
    "# 前五個學生\n",
    "scores[:5, :]\n",
    "# 最後五個學生\n",
    "scores[-5:, :]"
   ]
  },
  {
   "cell_type": "code",
   "execution_count": 24,
   "metadata": {},
   "outputs": [
    {
     "data": {
      "text/plain": [
       "array([92, 52, 56, 81, 67, 65, 93, 62, 50, 98, 56, 90, 76, 59, 57, 80, 53,\n",
       "       89, 99, 88, 51, 81, 50, 62, 77, 52, 69, 63, 86, 86, 74, 91, 57, 53,\n",
       "       61, 65, 91, 65, 99, 51, 78, 91, 51, 97, 61, 89, 69, 91, 53, 68])"
      ]
     },
     "execution_count": 24,
     "metadata": {},
     "output_type": "execute_result"
    }
   ],
   "source": [
    "# 全班第一科的分數\n",
    "scores[:, 0]"
   ]
  },
  {
   "cell_type": "code",
   "execution_count": 25,
   "metadata": {},
   "outputs": [
    {
     "data": {
      "text/plain": [
       "array([ 89,  87,  87,  58,  82,  69,  87,  74,  70,  92,  62,  88,  57,\n",
       "        50,  82,  77,  53,  54,  59,  61,  66,  92,  93,  65, 100,  98,\n",
       "        70,  96,  92,  63,  87,  70,  58,  90,  89,  72,  51,  59,  84,\n",
       "        52,  98,  96,  90,  75,  69,  58,  64,  83,  91,  59])"
      ]
     },
     "execution_count": 25,
     "metadata": {},
     "output_type": "execute_result"
    }
   ],
   "source": [
    "# 全班第二科的分數\n",
    "scores[:, 1]"
   ]
  },
  {
   "cell_type": "code",
   "execution_count": 27,
   "metadata": {},
   "outputs": [
    {
     "data": {
      "text/plain": [
       "array([409, 410, 350, 352, 427, 405, 390, 363, 350, 380, 395, 404, 368,\n",
       "       366, 367, 372, 370, 426, 391, 383, 337, 415, 398, 348, 404, 382,\n",
       "       371, 395, 370, 371, 393, 351, 278, 372, 390, 368, 323, 381, 389,\n",
       "       302, 422, 418, 362, 415, 346, 396, 363, 440, 358, 348])"
      ]
     },
     "execution_count": 27,
     "metadata": {},
     "output_type": "execute_result"
    }
   ],
   "source": [
    "# 每位學生的總分\n",
    "total = scores[:, 0] + scores[:, 1] + scores[:, 2] + scores[:, 3] + scores[:, 4]\n",
    "total"
   ]
  }
 ],
 "metadata": {
  "kernelspec": {
   "display_name": "Python 3",
   "language": "python",
   "name": "python3"
  },
  "language_info": {
   "codemirror_mode": {
    "name": "ipython",
    "version": 3
   },
   "file_extension": ".py",
   "mimetype": "text/x-python",
   "name": "python",
   "nbconvert_exporter": "python",
   "pygments_lexer": "ipython3",
   "version": "3.11.9"
  }
 },
 "nbformat": 4,
 "nbformat_minor": 2
}
