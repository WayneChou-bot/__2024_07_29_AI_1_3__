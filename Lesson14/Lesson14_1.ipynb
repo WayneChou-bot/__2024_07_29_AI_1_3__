{
 "cells": [
  {
   "cell_type": "code",
   "execution_count": 1,
   "metadata": {},
   "outputs": [
    {
     "data": {
      "text/plain": [
       "(5, 7)"
      ]
     },
     "execution_count": 1,
     "metadata": {},
     "output_type": "execute_result"
    }
   ],
   "source": [
    "(5, 7)"
   ]
  },
  {
   "cell_type": "code",
   "execution_count": 2,
   "metadata": {},
   "outputs": [
    {
     "data": {
      "text/plain": [
       "(5, 7)"
      ]
     },
     "execution_count": 2,
     "metadata": {},
     "output_type": "execute_result"
    }
   ],
   "source": [
    "5, 7"
   ]
  },
  {
   "cell_type": "code",
   "execution_count": 7,
   "metadata": {},
   "outputs": [
    {
     "data": {
      "text/plain": [
       "(5,)"
      ]
     },
     "execution_count": 7,
     "metadata": {},
     "output_type": "execute_result"
    }
   ],
   "source": [
    "# 單一個要加 \",\"\n",
    "(5, )"
   ]
  },
  {
   "cell_type": "code",
   "execution_count": 8,
   "metadata": {},
   "outputs": [
    {
     "data": {
      "text/plain": [
       "[1, 3, 5, 7, 9, 3, 5, 6, 7, 9]"
      ]
     },
     "execution_count": 8,
     "metadata": {},
     "output_type": "execute_result"
    }
   ],
   "source": [
    "list_a = [1, 3, 5, 7, 9]\n",
    "list_b = [3, 5, 6, 7, 9]\n",
    "list_a + list_b"
   ]
  },
  {
   "cell_type": "code",
   "execution_count": 10,
   "metadata": {},
   "outputs": [
    {
     "data": {
      "text/plain": [
       "array([ 4,  8, 11, 14, 18])"
      ]
     },
     "execution_count": 10,
     "metadata": {},
     "output_type": "execute_result"
    }
   ],
   "source": [
    "import numpy as np\n",
    "array_a = np.array([1, 3, 5, 7, 9])\n",
    "array_b = np.array([3, 5, 6, 7, 9])\n",
    "type(array_a)\n",
    "array_a + array_b"
   ]
  },
  {
   "cell_type": "code",
   "execution_count": 14,
   "metadata": {},
   "outputs": [
    {
     "data": {
      "text/plain": [
       "(2, (2, 3), 6, dtype('int64'))"
      ]
     },
     "execution_count": 14,
     "metadata": {},
     "output_type": "execute_result"
    }
   ],
   "source": [
    "import numpy as np\n",
    "\n",
    "l = [[1, 2, 3],[2, 3, 4]]\n",
    "array = np.array(l)\n",
    "array.ndim, array.shape, array.size, array.dtype"
   ]
  },
  {
   "cell_type": "code",
   "execution_count": 17,
   "metadata": {},
   "outputs": [
    {
     "data": {
      "text/plain": [
       "array([[-0.2115755 ,  1.43236187,  2.306911  ,  1.19424404, -1.75927173],\n",
       "       [ 1.38084583,  0.03120367,  1.20275879,  0.97092019,  0.07603791],\n",
       "       [ 0.67195082, -0.94720042, -0.34977296,  2.49692855,  0.24146176],\n",
       "       [-0.64244429,  1.18842381,  0.26194255, -1.15821728,  0.09974325],\n",
       "       [-0.11746087, -0.44958544,  0.17819431,  0.48588699,  0.73923177],\n",
       "       [-0.4312601 ,  1.61480727,  0.13945506, -0.52999808, -0.66184052],\n",
       "       [-0.62884286, -0.45110408,  0.75600054, -0.43180134,  0.86890168],\n",
       "       [-0.17506262, -0.79246808, -0.48776677,  2.18028884, -0.24490554],\n",
       "       [ 0.10699444,  1.1880349 ,  0.36325022, -0.92692486, -0.30586825],\n",
       "       [-0.18398966,  1.37190189, -0.52850888,  1.00170961, -0.77271614]])"
      ]
     },
     "execution_count": 17,
     "metadata": {},
     "output_type": "execute_result"
    }
   ],
   "source": [
    "import numpy as np\n",
    "np.random.randn(10,5)"
   ]
  },
  {
   "cell_type": "code",
   "execution_count": 21,
   "metadata": {},
   "outputs": [
    {
     "data": {
      "text/plain": [
       "array([[ 79,  86,  71,  82,  66],\n",
       "       [ 94,  71,  72, 100,  80],\n",
       "       [ 94,  99,  53,  57,  66],\n",
       "       [ 74,  86,  98,  80,  98],\n",
       "       [ 75,  89,  65,  50,  67],\n",
       "       [ 62,  91,  81,  98,  85],\n",
       "       [ 60,  93,  57,  88,  67],\n",
       "       [ 64,  88,  90,  58,  88],\n",
       "       [ 62,  70,  87,  76,  88],\n",
       "       [ 52,  84,  65,  83,  80],\n",
       "       [ 55,  90,  50,  69,  57],\n",
       "       [ 58,  57,  87,  90,  81],\n",
       "       [ 90,  78,  69,  84,  75],\n",
       "       [ 72,  70, 100,  97,  94],\n",
       "       [ 53, 100,  93,  79,  94],\n",
       "       [ 81,  73,  59,  83,  89],\n",
       "       [ 98,  99,  72,  84,  60],\n",
       "       [ 78,  53,  53,  95,  91],\n",
       "       [ 77,  88,  58,  84,  97],\n",
       "       [ 91,  90,  95,  54,  75],\n",
       "       [ 79,  72,  57,  90,  56],\n",
       "       [ 97,  57,  82,  95,  54],\n",
       "       [ 56,  66,  71,  99,  77],\n",
       "       [ 50,  74,  77,  59,  81],\n",
       "       [ 69, 100,  59,  91,  77],\n",
       "       [ 54,  88,  67,  50,  80],\n",
       "       [ 79,  90,  92,  98,  62],\n",
       "       [ 59,  86,  84,  91,  59],\n",
       "       [ 98,  60,  89,  96,  68],\n",
       "       [ 89,  75,  91,  93,  93],\n",
       "       [ 55,  58,  89,  91,  75],\n",
       "       [ 68,  56,  65,  73,  94],\n",
       "       [ 68,  92,  86,  90,  73],\n",
       "       [ 79,  78,  59,  76,  51],\n",
       "       [ 65,  95,  55,  92,  74],\n",
       "       [ 72,  74,  70,  77,  59],\n",
       "       [ 54,  90,  57,  56,  75],\n",
       "       [ 65,  87,  83,  93,  97],\n",
       "       [ 83,  61,  93,  88,  97],\n",
       "       [ 91,  67,  86,  59,  50],\n",
       "       [ 62,  92,  97,  72,  54],\n",
       "       [ 58,  67,  86,  90,  67],\n",
       "       [ 63,  89, 100,  91,  97],\n",
       "       [100,  51,  79,  54,  89],\n",
       "       [ 60,  99,  91,  61,  64],\n",
       "       [ 87,  52,  75,  88,  70],\n",
       "       [ 90,  57,  64,  63,  85],\n",
       "       [ 71,  71,  51,  54,  59],\n",
       "       [ 55,  90,  91,  95,  84],\n",
       "       [ 57,  99,  99,  57,  83]])"
      ]
     },
     "execution_count": 21,
     "metadata": {},
     "output_type": "execute_result"
    }
   ],
   "source": [
    "# 50個學生，每個學生有5個分數(50-100)\n",
    "scores = np.random.randint(50,101,size=(50,5))\n",
    "scores"
   ]
  }
 ],
 "metadata": {
  "kernelspec": {
   "display_name": "Python 3",
   "language": "python",
   "name": "python3"
  },
  "language_info": {
   "codemirror_mode": {
    "name": "ipython",
    "version": 3
   },
   "file_extension": ".py",
   "mimetype": "text/x-python",
   "name": "python",
   "nbconvert_exporter": "python",
   "pygments_lexer": "ipython3",
   "version": "3.11.9"
  }
 },
 "nbformat": 4,
 "nbformat_minor": 2
}
