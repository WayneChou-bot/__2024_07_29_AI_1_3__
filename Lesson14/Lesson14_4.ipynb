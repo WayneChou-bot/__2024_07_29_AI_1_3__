{
 "cells": [
  {
   "cell_type": "code",
   "execution_count": null,
   "metadata": {},
   "outputs": [],
   "source": [
    "# 讀取 CSV 檔，轉成 DataFrame\n",
    "import pandas as pd\n",
    "\n",
    "df = pd.read_csv(\"students.csv\", index_col=0)\n",
    "df"
   ]
  },
  {
   "cell_type": "code",
   "execution_count": null,
   "metadata": {},
   "outputs": [],
   "source": [
    "# 選取欄位\n",
    "df[\"國文\"]"
   ]
  },
  {
   "cell_type": "code",
   "execution_count": null,
   "metadata": {},
   "outputs": [],
   "source": [
    "# 選取多個欄位\n",
    "df[[\"國文\", \"英文\", \"數學\"]]"
   ]
  },
  {
   "cell_type": "code",
   "execution_count": null,
   "metadata": {},
   "outputs": [],
   "source": [
    "# 陣列運算\n",
    "# 建立新欄位\n",
    "sum = df[\"國文\"] + df[\"英文\"] + df[\"數學\"] + df[\"地理\"] + df[\"探索\"]\n",
    "average = sum / 5\n",
    "df[\"總分\"] = sum\n",
    "df[\"平均\"] = average\n",
    "df"
   ]
  },
  {
   "cell_type": "code",
   "execution_count": 17,
   "metadata": {},
   "outputs": [
    {
     "data": {
      "text/plain": [
       "國文     83.0\n",
       "英文     66.0\n",
       "數學     66.0\n",
       "地理     58.0\n",
       "探索     60.0\n",
       "總分    333.0\n",
       "平均     66.6\n",
       "Name: 陳怡伶, dtype: float64"
      ]
     },
     "execution_count": 17,
     "metadata": {},
     "output_type": "execute_result"
    }
   ],
   "source": [
    "df.loc[\"陳怡伶\", :]"
   ]
  },
  {
   "cell_type": "code",
   "execution_count": 18,
   "metadata": {},
   "outputs": [
    {
     "data": {
      "text/html": [
       "<div>\n",
       "<style scoped>\n",
       "    .dataframe tbody tr th:only-of-type {\n",
       "        vertical-align: middle;\n",
       "    }\n",
       "\n",
       "    .dataframe tbody tr th {\n",
       "        vertical-align: top;\n",
       "    }\n",
       "\n",
       "    .dataframe thead th {\n",
       "        text-align: right;\n",
       "    }\n",
       "</style>\n",
       "<table border=\"1\" class=\"dataframe\">\n",
       "  <thead>\n",
       "    <tr style=\"text-align: right;\">\n",
       "      <th></th>\n",
       "      <th>國文</th>\n",
       "      <th>英文</th>\n",
       "      <th>數學</th>\n",
       "      <th>地理</th>\n",
       "      <th>探索</th>\n",
       "      <th>總分</th>\n",
       "      <th>平均</th>\n",
       "    </tr>\n",
       "  </thead>\n",
       "  <tbody>\n",
       "    <tr>\n",
       "      <th>崔孝憲</th>\n",
       "      <td>94</td>\n",
       "      <td>95</td>\n",
       "      <td>86</td>\n",
       "      <td>52</td>\n",
       "      <td>59</td>\n",
       "      <td>386</td>\n",
       "      <td>77.2</td>\n",
       "    </tr>\n",
       "    <tr>\n",
       "      <th>張天亨</th>\n",
       "      <td>57</td>\n",
       "      <td>62</td>\n",
       "      <td>73</td>\n",
       "      <td>89</td>\n",
       "      <td>70</td>\n",
       "      <td>351</td>\n",
       "      <td>70.2</td>\n",
       "    </tr>\n",
       "    <tr>\n",
       "      <th>謝佳穎</th>\n",
       "      <td>87</td>\n",
       "      <td>69</td>\n",
       "      <td>88</td>\n",
       "      <td>56</td>\n",
       "      <td>77</td>\n",
       "      <td>377</td>\n",
       "      <td>75.4</td>\n",
       "    </tr>\n",
       "    <tr>\n",
       "      <th>林世城</th>\n",
       "      <td>56</td>\n",
       "      <td>87</td>\n",
       "      <td>84</td>\n",
       "      <td>98</td>\n",
       "      <td>56</td>\n",
       "      <td>381</td>\n",
       "      <td>76.2</td>\n",
       "    </tr>\n",
       "    <tr>\n",
       "      <th>潘俊賢</th>\n",
       "      <td>80</td>\n",
       "      <td>82</td>\n",
       "      <td>57</td>\n",
       "      <td>51</td>\n",
       "      <td>86</td>\n",
       "      <td>356</td>\n",
       "      <td>71.2</td>\n",
       "    </tr>\n",
       "  </tbody>\n",
       "</table>\n",
       "</div>"
      ],
      "text/plain": [
       "     國文  英文  數學  地理  探索   總分    平均\n",
       "崔孝憲  94  95  86  52  59  386  77.2\n",
       "張天亨  57  62  73  89  70  351  70.2\n",
       "謝佳穎  87  69  88  56  77  377  75.4\n",
       "林世城  56  87  84  98  56  381  76.2\n",
       "潘俊賢  80  82  57  51  86  356  71.2"
      ]
     },
     "execution_count": 18,
     "metadata": {},
     "output_type": "execute_result"
    }
   ],
   "source": [
    "df.iloc[:5,:]"
   ]
  }
 ],
 "metadata": {
  "kernelspec": {
   "display_name": "Python 3",
   "language": "python",
   "name": "python3"
  },
  "language_info": {
   "codemirror_mode": {
    "name": "ipython",
    "version": 3
   },
   "file_extension": ".py",
   "mimetype": "text/x-python",
   "name": "python",
   "nbconvert_exporter": "python",
   "pygments_lexer": "ipython3",
   "version": "3.11.9"
  }
 },
 "nbformat": 4,
 "nbformat_minor": 2
}
