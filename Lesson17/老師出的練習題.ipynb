{
 "cells": [
  {
   "cell_type": "code",
   "execution_count": 18,
   "metadata": {},
   "outputs": [
    {
     "name": "stdout",
     "output_type": "stream",
     "text": [
      "                國泰銀行       新光金       中信金       台新金\n",
      "Date                                              \n",
      "2023-01-03       NaN       NaN       NaN       NaN\n",
      "2023-01-04  0.000000  0.000000  0.009029  0.006623\n",
      "2023-01-05  0.007509  0.009091  0.011186  0.013158\n",
      "2023-01-06  0.012422  0.000000  0.000000 -0.003247\n",
      "2023-01-09  0.030675  0.009009  0.024336  0.019544\n",
      "...              ...       ...       ...       ...\n",
      "2023-12-25  0.004479  0.000000  0.003604  0.002817\n",
      "2023-12-26  0.007804  0.009206  0.005386  0.005618\n",
      "2023-12-27  0.005531  0.011402  0.003571  0.002793\n",
      "2023-12-28  0.007701  0.001127  0.010676  0.008357\n",
      "2023-12-29 -0.001092 -0.003378 -0.001761  0.000000\n",
      "\n",
      "[239 rows x 4 columns]\n",
      "                國泰銀行       新光金       中信金       台新金\n",
      "Date                                              \n",
      "2023-01-03       NaN       NaN       NaN       NaN\n",
      "2023-01-04  0.000000  0.000000  0.183739  0.086760\n",
      "2023-01-05  0.283920  0.080000  0.229673  0.173517\n",
      "2023-01-06  0.473206  0.000000  0.000000 -0.043380\n",
      "2023-01-09  1.183006  0.080000  0.505280  0.260276\n",
      "...              ...       ...       ...       ...\n",
      "2023-12-25  0.193214  0.000000  0.095522  0.046482\n",
      "2023-12-26  0.338139  0.080001  0.143282  0.092962\n",
      "2023-12-27  0.241528  0.099999  0.095524  0.046482\n",
      "2023-12-28  0.338131  0.010000  0.286564  0.139444\n",
      "2023-12-29 -0.048302 -0.030000 -0.047760  0.000000\n",
      "\n",
      "[239 rows x 4 columns]\n",
      "          國泰銀行       新光金       中信金       台新金\n",
      "國泰銀行  1.000000  0.611739  0.560722  0.549925\n",
      "新光金   0.611739  1.000000  0.396487  0.410888\n",
      "中信金   0.560722  0.396487  1.000000  0.518583\n",
      "台新金   0.549925  0.410888  0.518583  1.000000\n"
     ]
    }
   ],
   "source": [
    "import pandas_datareader.data as pdr\n",
    "import yfinance as yf\n",
    "import pandas as pd\n",
    "\n",
    "all_data1 = {ticker:df['Adj Close'] for ticker,df in all_data.items()}\n",
    "prices_df = pd.DataFrame(all_data1)\n",
    "prices_df.columns = ['國泰銀行','新光金','中信金','台新金']\n",
    "prices_df1 = prices_df.dropna()\n",
    "prices_df1_2023 = prices_df1.loc['2023-01-01':'2023-12-31']\n",
    "prices_pct_change = prices_df1_2023.pct_change()      # 平均差\n",
    "print(prices_pct_change)\n",
    "print(prices_df1_2023 - prices_df1_2023.shift(1))     # 每天的差值\n",
    "print(prices_pct_change.corr())                       # 相關係數"
   ]
  }
 ],
 "metadata": {
  "kernelspec": {
   "display_name": "Python 3",
   "language": "python",
   "name": "python3"
  },
  "language_info": {
   "codemirror_mode": {
    "name": "ipython",
    "version": 3
   },
   "file_extension": ".py",
   "mimetype": "text/x-python",
   "name": "python",
   "nbconvert_exporter": "python",
   "pygments_lexer": "ipython3",
   "version": "3.11.10"
  }
 },
 "nbformat": 4,
 "nbformat_minor": 2
}
