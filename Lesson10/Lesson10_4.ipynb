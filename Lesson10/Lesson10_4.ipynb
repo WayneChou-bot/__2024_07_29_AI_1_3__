{
 "cells": [
  {
   "cell_type": "code",
   "execution_count": null,
   "metadata": {},
   "outputs": [],
   "source": [
    "import csv\n",
    "from pprint import pprint\n",
    "with open(\"abc.csv\", encoding=\"utf-8\", newline=\"\") as file:\n",
    "    #content = file.read()\n",
    "    reader = csv.reader(file)\n",
    "    contents:list = list(reader)\n",
    "\n",
    "pprint(contents) # Nested Lists"
   ]
  },
  {
   "cell_type": "code",
   "execution_count": null,
   "metadata": {},
   "outputs": [],
   "source": [
    "import csv\n",
    "from pprint import pprint\n",
    "with open(\"abc.csv\", encoding=\"utf-8\", newline=\"\") as file:\n",
    "    #content = file.read()\n",
    "    dictReader = csv.DictReader(file)\n",
    "    contents:list = list(dictReader)\n",
    "\n",
    "pprint(contents) # Lists of Dictionaries"
   ]
  },
  {
   "cell_type": "code",
   "execution_count": null,
   "metadata": {},
   "outputs": [],
   "source": [
    "for item in contents:\n",
    "    if \"元大\" in item[\"證券名稱\"]:\n",
    "        print(item)"
   ]
  },
  {
   "cell_type": "code",
   "execution_count": 11,
   "metadata": {},
   "outputs": [
    {
     "data": {
      "text/plain": [
       "True"
      ]
     },
     "execution_count": 11,
     "metadata": {},
     "output_type": "execute_result"
    }
   ],
   "source": [
    "\"元大\" in \"元大電子\""
   ]
  }
 ],
 "metadata": {
  "kernelspec": {
   "display_name": "Python 3",
   "language": "python",
   "name": "python3"
  },
  "language_info": {
   "codemirror_mode": {
    "name": "ipython",
    "version": 3
   },
   "file_extension": ".py",
   "mimetype": "text/x-python",
   "name": "python",
   "nbconvert_exporter": "python",
   "pygments_lexer": "ipython3",
   "version": "3.11.9"
  }
 },
 "nbformat": 4,
 "nbformat_minor": 2
}
