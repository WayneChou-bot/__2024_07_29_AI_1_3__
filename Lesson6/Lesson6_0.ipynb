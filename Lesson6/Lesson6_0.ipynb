{
 "cells": [
  {
   "cell_type": "code",
   "execution_count": 4,
   "metadata": {},
   "outputs": [
    {
     "name": "stdout",
     "output_type": "stream",
     "text": [
      "10,8的公因數是:1\t10,8的公因數是:3\t10,8的公因數是:5\t10,8的公因數是:15\t"
     ]
    }
   ],
   "source": [
    "#題目：求2個數值的公因數\n",
    "#提示\n",
    "#value1 = int(input(\"請輸入第1個數值:\"))\n",
    "#value2 = int(input(\"請輸入第2個數值:\"))\n",
    "#(max,min) = (value1,value2) if value1 > value2 else (value2,value1)\n",
    "#輸出\n",
    "#10,8的公因數是:1,2\n",
    "\n",
    "value1 = int(input('請輸入第1個數值:'))\n",
    "value2 = int(input('請輸入第2個數值:'))\n",
    "\n",
    "(max_value,min_value) = (value1,value2) if value1 > value2 else (value2,value1)\n",
    "\n",
    "for n in range(1, min_value+1):\n",
    "    if max_value % n == 0 and min_value % n == 0:\n",
    "        print(f'10,8的公因數是:{n}', end='\\t')"
   ]
  }
 ],
 "metadata": {
  "kernelspec": {
   "display_name": "Python 3",
   "language": "python",
   "name": "python3"
  },
  "language_info": {
   "codemirror_mode": {
    "name": "ipython",
    "version": 3
   },
   "file_extension": ".py",
   "mimetype": "text/x-python",
   "name": "python",
   "nbconvert_exporter": "python",
   "pygments_lexer": "ipython3",
   "version": "3.11.9"
  }
 },
 "nbformat": 4,
 "nbformat_minor": 2
}
