{
 "cells": [
  {
   "cell_type": "code",
   "execution_count": 2,
   "metadata": {},
   "outputs": [
    {
     "name": "stdout",
     "output_type": "stream",
     "text": [
      "wayne您好: 您的BMI值是:23.88\n"
     ]
    }
   ],
   "source": [
    "N = str(input(\"請輸入姓名:\"))\n",
    "H = float(input(\"身高(cm):\"))\n",
    "W = float(input(\"體重(kg):\"))\n",
    "BMI = round(W / (H/100)**2, ndigits=2)\n",
    "print(f'{N}您好: 您的BMI值是:{BMI}')"
   ]
  }
 ],
 "metadata": {
  "kernelspec": {
   "display_name": "Python 3",
   "language": "python",
   "name": "python3"
  },
  "language_info": {
   "codemirror_mode": {
    "name": "ipython",
    "version": 3
   },
   "file_extension": ".py",
   "mimetype": "text/x-python",
   "name": "python",
   "nbconvert_exporter": "python",
   "pygments_lexer": "ipython3",
   "version": "3.11.9"
  }
 },
 "nbformat": 4,
 "nbformat_minor": 2
}
