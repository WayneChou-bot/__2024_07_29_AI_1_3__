{
 "cells": [
  {
   "cell_type": "code",
   "execution_count": 3,
   "metadata": {},
   "outputs": [
    {
     "data": {
      "text/plain": [
       "__main__.Person"
      ]
     },
     "execution_count": 3,
     "metadata": {},
     "output_type": "execute_result"
    }
   ],
   "source": [
    "class Person():\n",
    "    pass\n",
    "\n",
    "p1 = Person() # 預設的初始化\n",
    "type(p1)\n",
    "p2 = Person()\n",
    "type(p2)"
   ]
  },
  {
   "cell_type": "code",
   "execution_count": 7,
   "metadata": {},
   "outputs": [
    {
     "name": "stdout",
     "output_type": "stream",
     "text": [
      "wayne\n",
      "周士驊\n"
     ]
    }
   ],
   "source": [
    "class Person():\n",
    "    def __init__(self,name:str):\n",
    "        self.name = name\n",
    "\n",
    "p1 = Person(name=\"wayne\") # 自訂的初始化\n",
    "print(p1.name)\n",
    "p2 = Person(\"周士驊\")\n",
    "print(p2.name)"
   ]
  },
  {
   "cell_type": "code",
   "execution_count": 9,
   "metadata": {},
   "outputs": [
    {
     "name": "stdout",
     "output_type": "stream",
     "text": [
      "我的名字叫:wayne\n",
      "我的名字叫:周士驊\n"
     ]
    }
   ],
   "source": [
    "class Person():\n",
    "    def __init__(self,name:str):\n",
    "        self.name = name\n",
    "\n",
    "    def description(self)->str:  # 實體方法\n",
    "        return f\"我的名字叫:{self.name}\"\n",
    "\n",
    "p1 = Person(name=\"wayne\") # 自訂的初始化\n",
    "print(p1.description())\n",
    "p2 = Person(\"周士驊\")\n",
    "print(p2.description())"
   ]
  }
 ],
 "metadata": {
  "kernelspec": {
   "display_name": "Python 3",
   "language": "python",
   "name": "python3"
  },
  "language_info": {
   "codemirror_mode": {
    "name": "ipython",
    "version": 3
   },
   "file_extension": ".py",
   "mimetype": "text/x-python",
   "name": "python",
   "nbconvert_exporter": "python",
   "pygments_lexer": "ipython3",
   "version": "3.11.9"
  }
 },
 "nbformat": 4,
 "nbformat_minor": 2
}
