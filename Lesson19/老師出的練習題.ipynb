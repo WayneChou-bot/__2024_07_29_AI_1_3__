{
 "cells": [
  {
   "cell_type": "code",
   "execution_count": 2,
   "metadata": {},
   "outputs": [
    {
     "name": "stdout",
     "output_type": "stream",
     "text": [
      "<class 'pandas.core.frame.DataFrame'>\n",
      "DatetimeIndex: 406761 entries, 2019-04-23 to 2023-12-31\n",
      "Data columns (total 3 columns):\n",
      " #   Column  Non-Null Count   Dtype \n",
      "---  ------  --------------   ----- \n",
      " 0   車站名稱    406761 non-null  object\n",
      " 1   進站人數    406761 non-null  int64 \n",
      " 2   出站人數    406761 non-null  int64 \n",
      "dtypes: int64(2), object(1)\n",
      "memory usage: 12.4+ MB\n",
      "None\n"
     ]
    }
   ],
   "source": [
    "# 請使用以下的dataFrame,並且使用py檔。\n",
    "# 取出所有基隆的資料\n",
    "# 取出2021年所有台北車站的資料\n",
    "\n",
    "import os\n",
    "import pandas as pd\n",
    "import json\n",
    "\n",
    "def parse_data(filename):\n",
    "    df1 = pd.read_csv(filename)\n",
    "    df2 = df1.rename(columns={\"trnOpDate\":\"乘車日\",\n",
    "            \"staCode\":\"車站代碼\",\n",
    "            \"gateInComingCnt\":\"進站人數\",\n",
    "            \"gateOutGoingCnt\":\"出站人數\"})\n",
    "    with open('車站基本資料集.json',encoding='utf-8') as file:\n",
    "        json_data = json.load(file)\n",
    "        stations_info = pd.DataFrame(json_data,columns=['stationCode','stationName'])\n",
    "        stations_info = stations_info.astype({'stationCode':'int32'})\n",
    "    df3 = pd.merge(df2,stations_info,left_on='車站代碼',right_on='stationCode')\n",
    "    df4 = df3.rename(columns={'stationName':'車站名稱'})\n",
    "    df5 = df4.reindex(columns=['乘車日','車站名稱','進站人數','出站人數'])\n",
    "    df5['乘車日'] = pd.to_datetime(df5['乘車日'].astype(str))\n",
    "    return df5\n",
    "\n",
    "def main():\n",
    "    current_dir = os.getcwd()\n",
    "    csv_dir = os.path.join(current_dir,'每日各站進出站人數')\n",
    "    files_and_dirs = os.listdir(csv_dir)\n",
    "    all_csv_files = [filename for filename in files_and_dirs if '每日各站進出站人數' in filename]\n",
    "    sorted_csv_files = sorted(all_csv_files)\n",
    "    all_final_dfs = [] \n",
    "    for filename in sorted_csv_files:\n",
    "        abs_filename = os.path.join(csv_dir,filename)\n",
    "        all_final_dfs.append(parse_data(abs_filename))\n",
    "    df_done = pd.concat(all_final_dfs)\n",
    "    df_done1 = df_done.set_index('乘車日')\n",
    "    print(df_done1.info())\n",
    "\n",
    "\n",
    "if __name__ == '__main__':\n",
    "    main()"
   ]
  }
 ],
 "metadata": {
  "kernelspec": {
   "display_name": "Python 3",
   "language": "python",
   "name": "python3"
  },
  "language_info": {
   "codemirror_mode": {
    "name": "ipython",
    "version": 3
   },
   "file_extension": ".py",
   "mimetype": "text/x-python",
   "name": "python",
   "nbconvert_exporter": "python",
   "pygments_lexer": "ipython3",
   "version": "3.11.10"
  }
 },
 "nbformat": 4,
 "nbformat_minor": 2
}
